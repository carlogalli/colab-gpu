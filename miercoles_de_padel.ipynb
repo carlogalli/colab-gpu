{
  "nbformat": 4,
  "nbformat_minor": 0,
  "metadata": {
    "colab": {
      "private_outputs": true,
      "provenance": [],
      "authorship_tag": "ABX9TyMhiSTeW4+WnZ7nvgmY4hMK",
      "include_colab_link": true
    },
    "kernelspec": {
      "name": "python3",
      "display_name": "Python 3"
    },
    "language_info": {
      "name": "python"
    }
  },
  "cells": [
    {
      "cell_type": "markdown",
      "metadata": {
        "id": "view-in-github",
        "colab_type": "text"
      },
      "source": [
        "<a href=\"https://colab.research.google.com/github/carlogalli/colab-gpu/blob/main/miercoles_de_padel.ipynb\" target=\"_parent\"><img src=\"https://colab.research.google.com/assets/colab-badge.svg\" alt=\"Open In Colab\"/></a>"
      ]
    },
    {
      "cell_type": "code",
      "execution_count": null,
      "metadata": {
        "id": "jPC2BNSYXI19"
      },
      "outputs": [],
      "source": [
        "pip install trueskill varname pandas"
      ]
    },
    {
      "cell_type": "code",
      "source": [
        "from trueskill import Rating, quality, rate\n",
        "import pandas as pd"
      ],
      "metadata": {
        "id": "2wrdWua9XV74"
      },
      "execution_count": null,
      "outputs": []
    },
    {
      "cell_type": "code",
      "source": [
        "# parameters\n",
        "a = 5\n",
        "k = 2"
      ],
      "metadata": {
        "id": "ZyXQ1aq1Xqp4"
      },
      "execution_count": null,
      "outputs": []
    },
    {
      "cell_type": "code",
      "source": [
        "#  initial ratings\n",
        "\n",
        "players_names = (\"Guille\", \"Fede\" , \"Dani\" , \"Clodo\" , \"Toni\" , \"Alessio\" , \"Evaristo\" , \"Gigi\" , \"CarloG\", \"Marco\", \"Marc\", \"Jan\", \"CarloC\", \"CarloS\", \"Edo\", \"Nic\", \"Willie\", \"Rodi\", \"Sebas\", \"Jose\")\n",
        "\n",
        "Guille = Rating(25)\n",
        "Fede = Rating(25)\n",
        "Dani = Rating(25)\n",
        "Clodo = Rating(25)\n",
        "Toni = Rating(25)\n",
        "Alessio = Rating(25)\n",
        "Evaristo = Rating(25)\n",
        "Gigi = Rating(25)\n",
        "CarloG = Rating(25)\n",
        "Marco = Rating(25)\n",
        "Marc = Rating(25)\n",
        "Jan = Rating(25)\n",
        "CarloC = Rating(25)\n",
        "CarloS = Rating(25)\n",
        "Edo = Rating(25)\n",
        "Nic = Rating(25)\n",
        "Willie = Rating(25)\n",
        "Rodi = Rating(25)\n",
        "Sebas = Rating(25)\n",
        "Jose = Rating(25)\n",
        "\n",
        "players = Guille, Fede, Dani, Clodo, Toni, Alessio, Evaristo, Gigi, CarloG, Marco, Marc, Jan, CarloC, CarloS, Edo, Nic, Willie, Rodi, Sebas, Jose\n",
        "\n",
        "# ranks=[0, 1] : wins first team\n",
        "# ranks=[1, 0] : wins second team\n",
        "# ranks=[0, 0] : drawn"
      ],
      "metadata": {
        "id": "IunqRGwnXuGX"
      },
      "execution_count": null,
      "outputs": []
    },
    {
      "cell_type": "code",
      "source": [
        "# ----------\n",
        "# 30 agosto 2023\n",
        "# ----------\n",
        "\n",
        "A = [Jose , Jan]\n",
        "B = [Evaristo , Fede]\n",
        "(Jose , Jan), (Evaristo , Fede) = rate([A, B], ranks=[1, 0])\n",
        "# 6-7\n",
        "\n",
        "A = [Fede , Jose]\n",
        "B = [Evaristo , Jan]\n",
        "(Fede , Jose), (Evaristo , Jan) = rate([A, B], ranks=[0, 1])\n",
        "# 6-4\n",
        "\n",
        "A = [Jose , Evaristo]\n",
        "B = [Fede , Jan]\n",
        "(Jose , Evaristo), (Fede , Jan) = rate([A, B], ranks=[1, 0])\n",
        "# 3-6"
      ],
      "metadata": {
        "id": "TPfEN4a3Xvz4"
      },
      "execution_count": null,
      "outputs": []
    },
    {
      "cell_type": "code",
      "source": [
        "# ----------\n",
        "# 13 septiembre 2023\n",
        "# ----------\n",
        "\n",
        "A = [Fede , Edo]\n",
        "B = [Dani , Gigi]\n",
        "(Fede , Edo), (Dani , Gigi) = rate([A, B], ranks=[1, 0])\n",
        "# 3-6\n",
        "\n",
        "A = [Fede , Dani]\n",
        "B = [Gigi , Edo]\n",
        "(Fede , Dani), (Gigi , Edo) = rate([A, B], ranks=[1, 0])\n",
        "# 4-6\n",
        "\n",
        "A = [Fede , Gigi]\n",
        "B = [Dani, Edo]\n",
        "(Fede , Gigi), (Dani, Edo) = rate([A, B], ranks=[0, 1])\n",
        "# 6-1"
      ],
      "metadata": {
        "id": "uCFWjxs8XxXX"
      },
      "execution_count": null,
      "outputs": []
    },
    {
      "cell_type": "code",
      "source": [
        "# ----------\n",
        "# 27 septiembre 2023\n",
        "# ----------\n",
        "\n",
        "A = [Clodo, CarloG]\n",
        "B = [Guille, Jan]\n",
        "(Clodo, CarloG), (Guille, Jan) = rate([A, B], ranks=[1, 0])\n",
        "# 3-6\n",
        "\n",
        "A = [Clodo, Jan]\n",
        "B = [Guille, CarloG]\n",
        "(Clodo, Jan), (Guille, CarloG) = rate([A, B], ranks=[1, 0])\n",
        "# 3-6\n",
        "\n",
        "A = [Clodo , Guille]\n",
        "B = [CarloG, Jan]\n",
        "(Clodo , Guille), (CarloG, Jan) = rate([A, B], ranks=[1, 0])\n",
        "# 5-7\n",
        "\n",
        "A = [Clodo , CarloG]\n",
        "B = [Guille, Jan]\n",
        "(Clodo , CarloG), (Guille, Jan) = rate([A, B], ranks=[0, 1])\n",
        "# 6-0"
      ],
      "metadata": {
        "id": "yRG2dYF7Xylm"
      },
      "execution_count": null,
      "outputs": []
    },
    {
      "cell_type": "code",
      "source": [
        "# ----------\n",
        "# Leaderboards\n",
        "# ----------\n",
        "\n",
        "leaderboards = pd.DataFrame(columns=['Name', 'Score'])\n",
        "j = 0\n",
        "for i in Guille, Fede, Dani, Clodo, Toni, Alessio, Evaristo, Gigi, CarloG, Marco, Marc, Jan, CarloC, CarloS, Edo, Nic, Willie, Rodi, Sebas, Jose:\n",
        "    leaderboards = leaderboards.append({'Name': players_names[j] , 'Score': i.mu.real - k*i.sigma.real}, ignore_index=True)\n",
        "    j = j + 1\n",
        "\n",
        "\n",
        "leaderboards = leaderboards.sort_values(by=['Score'] , ascending=False , ignore_index=True)\n",
        "print(leaderboards)"
      ],
      "metadata": {
        "id": "DdF6GkwBXz9X"
      },
      "execution_count": null,
      "outputs": []
    },
    {
      "cell_type": "code",
      "source": [
        "# ----------\n",
        "# Leaderboards\n",
        "# ----------\n",
        "\n",
        "leaderboards = pd.DataFrame(columns=['Name', 'Score'])\n",
        "j = 0\n",
        "for i in players:\n",
        "    leaderboards = leaderboards.append({'Name': players_names[j] , 'Score': i.mu.real - k*i.sigma.real}, ignore_index=True)\n",
        "    j = j + 1\n",
        "\n",
        "leaderboards = leaderboards.sort_values(by=['Score'] , ascending=False , ignore_index=True)\n",
        "print(leaderboards)"
      ],
      "metadata": {
        "id": "_GPMNwm2if8m"
      },
      "execution_count": null,
      "outputs": []
    }
  ]
}