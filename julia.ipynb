{
  "nbformat": 4,
  "nbformat_minor": 0,
  "metadata": {
    "colab": {
      "provenance": [],
      "include_colab_link": true
    },
    "kernelspec": {
      "name": "julia",
      "display_name": "Julia"
    },
    "gpuClass": "standard"
  },
  "cells": [
    {
      "cell_type": "markdown",
      "metadata": {
        "id": "view-in-github",
        "colab_type": "text"
      },
      "source": [
        "<a href=\"https://colab.research.google.com/github/carlogalli/colab-gpu/blob/main/julia.ipynb\" target=\"_parent\"><img src=\"https://colab.research.google.com/assets/colab-badge.svg\" alt=\"Open In Colab\"/></a>"
      ]
    },
    {
      "cell_type": "code",
      "metadata": {
        "id": "PzmKOAh2LZrF"
      },
      "source": [
        "# The Julia boostrap block\n",
        "# This should be run for the first time to install Julia kernel, and then refresh this page (e.g., Ctrl-R)\n",
        "# so that colab will redirect to the installed Julia kernel\n",
        "# and then doing your own work\n",
        "\n",
        "# 1. install latest Julia using jill.py\n",
        "#    tip: one can install specific Julia version using e.g., `jill install 1.7`\n",
        "# !pip install jill && jill install --upstream Official --confirm\n",
        "!pip install jill && jill install 1.8.5 --confirm"
      ],
      "execution_count": null,
      "outputs": []
    },
    {
      "cell_type": "code",
      "source": [
        "# 2. install IJulia kernel\n",
        "! julia -e 'using Pkg; pkg\"add IJulia\"; precompile;'"
      ],
      "metadata": {
        "id": "ZAxt3xTii8UT"
      },
      "execution_count": null,
      "outputs": []
    },
    {
      "cell_type": "code",
      "source": [
        "# 3. hot-fix patch to strip the version suffix of the installed kernel so that this notebook kernelspec is version agnostic\n",
        "!jupyter kernelspec install $(jupyter kernelspec list | grep julia | tr -s ' ' | cut -d' ' -f3) --replace --name julia"
      ],
      "metadata": {
        "id": "2-iZyjMkjPgd"
      },
      "execution_count": null,
      "outputs": []
    },
    {
      "cell_type": "code",
      "metadata": {
        "id": "erJ7bkEtLrCF"
      },
      "source": [
        "# julia cells\n",
        "function square(x)\n",
        "  return x*x\n",
        "end\n",
        "\n",
        "square(5)"
      ],
      "execution_count": null,
      "outputs": []
    }
  ]
}