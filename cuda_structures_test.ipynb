{
  "nbformat": 4,
  "nbformat_minor": 0,
  "metadata": {
    "accelerator": "GPU",
    "colab": {
      "provenance": [],
      "include_colab_link": true
    },
    "kernelspec": {
      "display_name": "Julia 1.7",
      "language": "julia",
      "name": "julia-1.7"
    },
    "language_info": {
      "file_extension": ".jl",
      "mimetype": "application/julia",
      "name": "julia",
      "version": "1.7.2"
    },
    "gpuClass": "standard"
  },
  "cells": [
    {
      "cell_type": "markdown",
      "metadata": {
        "id": "view-in-github",
        "colab_type": "text"
      },
      "source": [
        "<a href=\"https://colab.research.google.com/github/carlogalli/colab-gpu/blob/main/cuda_structures_test.ipynb\" target=\"_parent\"><img src=\"https://colab.research.google.com/assets/colab-badge.svg\" alt=\"Open In Colab\"/></a>"
      ]
    },
    {
      "cell_type": "markdown",
      "source": [
        "# Installation"
      ],
      "metadata": {
        "id": "tPIu4SvlIuWW"
      }
    },
    {
      "cell_type": "code",
      "metadata": {
        "id": "PMGwZ7aFJL8Y"
      },
      "source": [
        "# Installation cell\n",
        "%%capture\n",
        "%%shell\n",
        "if ! command -v julia 3>&1 > /dev/null\n",
        "then\n",
        "    wget -q 'https://julialang-s3.julialang.org/bin/linux/x64/1.7/julia-1.7.2-linux-x86_64.tar.gz' \\\n",
        "        -O /tmp/julia.tar.gz\n",
        "    tar -x -f /tmp/julia.tar.gz -C /usr/local --strip-components 1\n",
        "    rm /tmp/julia.tar.gz\n",
        "fi\n",
        "julia -e 'using Pkg; pkg\"add IJulia; precompile;\"'\n",
        "echo 'Done'"
      ],
      "execution_count": 1,
      "outputs": []
    },
    {
      "cell_type": "markdown",
      "metadata": {
        "id": "XdMpcQduyaQc"
      },
      "source": [
        "After you run the first cell (the the cell directly above this text), go to Colab's menu bar and select **Edit** and select **Notebook settings** from the drop down. Select *Julia 1.7* in Runtime type. You can also select your prefered harwdware acceleration (defaults to GPU)."
      ]
    },
    {
      "cell_type": "code",
      "metadata": {
        "id": "iIxu4TjlJnBG",
        "colab": {
          "base_uri": "https://localhost:8080/"
        },
        "outputId": "e37f77a6-c94f-4468-dd91-fa71120a6a3e"
      },
      "source": [
        "# print Julia version\n",
        "VERSION"
      ],
      "execution_count": 1,
      "outputs": [
        {
          "output_type": "execute_result",
          "data": {
            "text/plain": [
              "v\"1.7.2\""
            ]
          },
          "metadata": {},
          "execution_count": 1
        }
      ]
    },
    {
      "cell_type": "code",
      "source": [
        "using Pkg\n",
        "Pkg.add([\"CUDA\", \"Random\", \"Printf\", \"BenchmarkTools\", \"Adapt\"]);\n",
        "ENV[\"JULIA_CUDA_USE_BINARYBUILDER\"] = false\n",
        "using Random, CUDA, Printf, BenchmarkTools, Adapt;\n",
        "\n",
        "function print_gpu_properties()\n",
        "\n",
        "    for (i,device) in enumerate(CUDA.devices())\n",
        "        println(\"*** General properties for device $i ***\")\n",
        "        name = CUDA.name(device)\n",
        "        println(\"Device name: $name\")\n",
        "        major = CUDA.attribute(device, CUDA.CU_DEVICE_ATTRIBUTE_COMPUTE_CAPABILITY_MAJOR)\n",
        "        minor = CUDA.attribute(device, CUDA.CU_DEVICE_ATTRIBUTE_COMPUTE_CAPABILITY_MINOR)\n",
        "        println(\"Compute capabilities: $major.$minor\")\n",
        "        clock_rate = CUDA.attribute(device, CUDA.CU_DEVICE_ATTRIBUTE_CLOCK_RATE)\n",
        "        println(\"Clock rate: $clock_rate\")\n",
        "        device_overlap = CUDA.attribute(device, CUDA.CU_DEVICE_ATTRIBUTE_GPU_OVERLAP)\n",
        "        print(\"Device copy overlap: \")\n",
        "        println(device_overlap > 0 ? \"enabled\" : \"disabled\")\n",
        "        kernel_exec_timeout = CUDA.attribute(device, CUDA.CU_DEVICE_ATTRIBUTE_KERNEL_EXEC_TIMEOUT)\n",
        "        print(\"Kernel execution timeout: \")\n",
        "        println(kernel_exec_timeout > 0 ? \"enabled\" : \"disabled\")\n",
        "        # a = CUDA.attribute(device, CUDA.CU_DEVICE_ATTRIBUTE_MAX_BLOCK_DIM_X)\n",
        "        # d = CUDA.attribute(device, CUDA.CU_DEVICE_ATTRIBUTE_MAX_GRID_DIM_X)       \n",
        "        a = CUDA.attribute(device, CUDA.CU_DEVICE_ATTRIBUTE_MULTIPROCESSOR_COUNT)\n",
        "        println(\"Number of multiprocessors: $a\")\n",
        "        b = CUDA.attribute(device, CUDA.CU_DEVICE_ATTRIBUTE_MAX_BLOCKS_PER_MULTIPROCESSOR)\n",
        "        println(\"Max blocks per MP: $b\")\n",
        "        c = CUDA.attribute(device, CUDA.CU_DEVICE_ATTRIBUTE_MAX_THREADS_PER_BLOCK)        \n",
        "        println(\"Max threads per block: $c\")\n",
        "        \n",
        "        println([a b c a*b*c])\n",
        "    end\n",
        "end\n",
        "print_gpu_properties()\n",
        "# with the falseENV option it takes 117.357304 seconds (35.94 M allocations: 2.301 GiB, 1.29% gc time, 11.71% compilation time)\n",
        "# without the falseENV option it takes  124.465413 seconds (39.74 M allocations: 2.537 GiB, 1.27% gc time, 12.65% compilation time)"
      ],
      "metadata": {
        "id": "4NaxNh3oPVUx"
      },
      "execution_count": null,
      "outputs": []
    },
    {
      "cell_type": "code",
      "source": [
        "function test1(vin, vout)\n",
        "    i = threadIdx().x\n",
        "    vout[i] = vin[i]*10\n",
        "    return nothing\n",
        "end"
      ],
      "metadata": {
        "id": "aNaJAd5SPfj-",
        "outputId": "a417c669-2b3d-4cee-d30d-a6dfb97f5379",
        "colab": {
          "base_uri": "https://localhost:8080/"
        }
      },
      "execution_count": 15,
      "outputs": [
        {
          "output_type": "execute_result",
          "data": {
            "text/plain": [
              "test1 (generic function with 2 methods)"
            ]
          },
          "metadata": {},
          "execution_count": 15
        }
      ]
    },
    {
      "cell_type": "code",
      "source": [
        "n = 10\n",
        "xin = CuArray(rand(n))\n",
        "xout = CuArray(zeros(n))\n",
        "@cuda threads=n test1(xin,xout)\n",
        "[xin xout]"
      ],
      "metadata": {
        "id": "aP7TGLzbPyfa"
      },
      "execution_count": null,
      "outputs": []
    },
    {
      "cell_type": "code",
      "source": [
        "function test2(s)\n",
        "    i = threadIdx().x\n",
        "    s.vout[i] = s.vin[i]*10\n",
        "    return nothing\n",
        "end"
      ],
      "metadata": {
        "id": "Ux8CpqPjQeo3",
        "outputId": "b7e0f196-8ae0-47e0-c879-258c68164002",
        "colab": {
          "base_uri": "https://localhost:8080/"
        }
      },
      "execution_count": 29,
      "outputs": [
        {
          "output_type": "execute_result",
          "data": {
            "text/plain": [
              "test2 (generic function with 1 method)"
            ]
          },
          "metadata": {},
          "execution_count": 29
        }
      ]
    },
    {
      "cell_type": "code",
      "source": [
        "struct Model{T}\n",
        "    vin::T\n",
        "    vout::T\n",
        "end\n",
        "\n",
        "import Adapt\n",
        "function Adapt.adapt_structure(to, model::Model)\n",
        "    vin = Adapt.adapt_structure(to, model.vin)\n",
        "    vout = Adapt.adapt_structure(to, model.vout)\n",
        "    Model(vin, vout)\n",
        "end"
      ],
      "metadata": {
        "id": "8y_61Jy6Qnpj"
      },
      "execution_count": 33,
      "outputs": []
    },
    {
      "cell_type": "code",
      "source": [
        "n = 10\n",
        "yin = CuArray(rand(n))\n",
        "yout = CuArray(zeros(n))\n",
        "m1 = Model(yin, yout)\n",
        "[m1.vin m1.vout]"
      ],
      "metadata": {
        "id": "HZPC_ZeAT8sj",
        "outputId": "a5b35b20-08cf-457a-d40e-f9c965a34f1c",
        "colab": {
          "base_uri": "https://localhost:8080/"
        }
      },
      "execution_count": 43,
      "outputs": [
        {
          "output_type": "execute_result",
          "data": {
            "text/plain": [
              "10×2 CuArray{Float64, 2, CUDA.Mem.DeviceBuffer}:\n",
              " 0.873244   0.0\n",
              " 0.739461   0.0\n",
              " 0.0859145  0.0\n",
              " 0.672601   0.0\n",
              " 0.442247   0.0\n",
              " 0.151866   0.0\n",
              " 0.369725   0.0\n",
              " 0.878753   0.0\n",
              " 0.669636   0.0\n",
              " 0.219338   0.0"
            ]
          },
          "metadata": {},
          "execution_count": 43
        }
      ]
    },
    {
      "cell_type": "code",
      "source": [
        "@cuda threads=n test2(m1)\n",
        "[m1.vin m1.vout]"
      ],
      "metadata": {
        "id": "gxaqyLCIRB6o",
        "outputId": "904161a6-a1c0-49bf-c100-c52ff84787c7",
        "colab": {
          "base_uri": "https://localhost:8080/"
        }
      },
      "execution_count": 44,
      "outputs": [
        {
          "output_type": "execute_result",
          "data": {
            "text/plain": [
              "10×2 CuArray{Float64, 2, CUDA.Mem.DeviceBuffer}:\n",
              " 0.873244   8.73244\n",
              " 0.739461   7.39461\n",
              " 0.0859145  0.859145\n",
              " 0.672601   6.72601\n",
              " 0.442247   4.42247\n",
              " 0.151866   1.51866\n",
              " 0.369725   3.69725\n",
              " 0.878753   8.78753\n",
              " 0.669636   6.69636\n",
              " 0.219338   2.19338"
            ]
          },
          "metadata": {},
          "execution_count": 44
        }
      ]
    },
    {
      "cell_type": "markdown",
      "source": [
        "https://discourse.julialang.org/t/arrays-of-arrays-and-arrays-of-structures-in-cuda-kernels-cause-random-errors/69739"
      ],
      "metadata": {
        "id": "Dmyvat_OUYy4"
      }
    }
  ]
}