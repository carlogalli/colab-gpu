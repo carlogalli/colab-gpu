{
  "nbformat": 4,
  "nbformat_minor": 0,
  "metadata": {
    "accelerator": "GPU",
    "colab": {
      "provenance": [],
      "include_colab_link": true
    },
    "kernelspec": {
      "display_name": "Julia 1.7",
      "language": "julia",
      "name": "julia-1.7"
    },
    "language_info": {
      "file_extension": ".jl",
      "mimetype": "application/julia",
      "name": "julia",
      "version": "1.7.2"
    },
    "gpuClass": "standard"
  },
  "cells": [
    {
      "cell_type": "markdown",
      "metadata": {
        "id": "view-in-github",
        "colab_type": "text"
      },
      "source": [
        "<a href=\"https://colab.research.google.com/github/carlogalli/colab-gpu/blob/main/cuda_structures_test.ipynb\" target=\"_parent\"><img src=\"https://colab.research.google.com/assets/colab-badge.svg\" alt=\"Open In Colab\"/></a>"
      ]
    },
    {
      "cell_type": "markdown",
      "source": [
        "# Installation"
      ],
      "metadata": {
        "id": "tPIu4SvlIuWW"
      }
    },
    {
      "cell_type": "code",
      "metadata": {
        "id": "PMGwZ7aFJL8Y"
      },
      "source": [
        "# Installation cell\n",
        "%%capture\n",
        "%%shell\n",
        "if ! command -v julia 3>&1 > /dev/null\n",
        "then\n",
        "    wget -q 'https://julialang-s3.julialang.org/bin/linux/x64/1.7/julia-1.7.2-linux-x86_64.tar.gz' \\\n",
        "        -O /tmp/julia.tar.gz\n",
        "    tar -x -f /tmp/julia.tar.gz -C /usr/local --strip-components 1\n",
        "    rm /tmp/julia.tar.gz\n",
        "fi\n",
        "julia -e 'using Pkg; pkg\"add IJulia; precompile;\"'\n",
        "echo 'Done'"
      ],
      "execution_count": null,
      "outputs": []
    },
    {
      "cell_type": "markdown",
      "metadata": {
        "id": "XdMpcQduyaQc"
      },
      "source": [
        "After you run the first cell (the the cell directly above this text), go to Colab's menu bar and select **Edit** and select **Notebook settings** from the drop down. Select *Julia 1.7* in Runtime type. You can also select your prefered harwdware acceleration (defaults to GPU)."
      ]
    },
    {
      "cell_type": "code",
      "metadata": {
        "id": "iIxu4TjlJnBG",
        "colab": {
          "base_uri": "https://localhost:8080/"
        },
        "outputId": "e37f77a6-c94f-4468-dd91-fa71120a6a3e"
      },
      "source": [
        "# print Julia version\n",
        "VERSION"
      ],
      "execution_count": null,
      "outputs": [
        {
          "output_type": "execute_result",
          "data": {
            "text/plain": [
              "v\"1.7.2\""
            ]
          },
          "metadata": {},
          "execution_count": 1
        }
      ]
    },
    {
      "cell_type": "code",
      "source": [
        "using Pkg\n",
        "Pkg.add([\"CUDA\", \"Random\", \"Printf\", \"BenchmarkTools\", \"Adapt\"]);\n",
        "ENV[\"JULIA_CUDA_USE_BINARYBUILDER\"] = false\n",
        "using Random, CUDA, Printf, BenchmarkTools, Adapt;\n",
        "\n",
        "function print_gpu_properties()\n",
        "\n",
        "    for (i,device) in enumerate(CUDA.devices())\n",
        "        println(\"*** General properties for device $i ***\")\n",
        "        name = CUDA.name(device)\n",
        "        println(\"Device name: $name\")\n",
        "        major = CUDA.attribute(device, CUDA.CU_DEVICE_ATTRIBUTE_COMPUTE_CAPABILITY_MAJOR)\n",
        "        minor = CUDA.attribute(device, CUDA.CU_DEVICE_ATTRIBUTE_COMPUTE_CAPABILITY_MINOR)\n",
        "        println(\"Compute capabilities: $major.$minor\")\n",
        "        clock_rate = CUDA.attribute(device, CUDA.CU_DEVICE_ATTRIBUTE_CLOCK_RATE)\n",
        "        println(\"Clock rate: $clock_rate\")\n",
        "        device_overlap = CUDA.attribute(device, CUDA.CU_DEVICE_ATTRIBUTE_GPU_OVERLAP)\n",
        "        print(\"Device copy overlap: \")\n",
        "        println(device_overlap > 0 ? \"enabled\" : \"disabled\")\n",
        "        kernel_exec_timeout = CUDA.attribute(device, CUDA.CU_DEVICE_ATTRIBUTE_KERNEL_EXEC_TIMEOUT)\n",
        "        print(\"Kernel execution timeout: \")\n",
        "        println(kernel_exec_timeout > 0 ? \"enabled\" : \"disabled\")\n",
        "        # a = CUDA.attribute(device, CUDA.CU_DEVICE_ATTRIBUTE_MAX_BLOCK_DIM_X)\n",
        "        # d = CUDA.attribute(device, CUDA.CU_DEVICE_ATTRIBUTE_MAX_GRID_DIM_X)       \n",
        "        a = CUDA.attribute(device, CUDA.CU_DEVICE_ATTRIBUTE_MULTIPROCESSOR_COUNT)\n",
        "        println(\"Number of multiprocessors: $a\")\n",
        "        b = CUDA.attribute(device, CUDA.CU_DEVICE_ATTRIBUTE_MAX_BLOCKS_PER_MULTIPROCESSOR)\n",
        "        println(\"Max blocks per MP: $b\")\n",
        "        c = CUDA.attribute(device, CUDA.CU_DEVICE_ATTRIBUTE_MAX_THREADS_PER_BLOCK)        \n",
        "        println(\"Max threads per block: $c\")\n",
        "        \n",
        "        println([a b c a*b*c])\n",
        "    end\n",
        "end\n",
        "print_gpu_properties()\n",
        "# with the falseENV option it takes 117.357304 seconds (35.94 M allocations: 2.301 GiB, 1.29% gc time, 11.71% compilation time)\n",
        "# without the falseENV option it takes  124.465413 seconds (39.74 M allocations: 2.537 GiB, 1.27% gc time, 12.65% compilation time)"
      ],
      "metadata": {
        "id": "4NaxNh3oPVUx"
      },
      "execution_count": null,
      "outputs": []
    },
    {
      "cell_type": "code",
      "source": [
        "function test1(vin, vout)\n",
        "    i = threadIdx().x\n",
        "    vout[i] = vin[i]*10\n",
        "    return nothing\n",
        "end"
      ],
      "metadata": {
        "colab": {
          "base_uri": "https://localhost:8080/"
        },
        "id": "aNaJAd5SPfj-",
        "outputId": "a417c669-2b3d-4cee-d30d-a6dfb97f5379"
      },
      "execution_count": null,
      "outputs": [
        {
          "output_type": "execute_result",
          "data": {
            "text/plain": [
              "test1 (generic function with 2 methods)"
            ]
          },
          "metadata": {},
          "execution_count": 15
        }
      ]
    },
    {
      "cell_type": "code",
      "source": [
        "n = 10\n",
        "xin = CuArray(rand(n))\n",
        "xout = CuArray(zeros(n))\n",
        "@cuda threads=n test1(xin,xout)\n",
        "[xin xout]"
      ],
      "metadata": {
        "id": "aP7TGLzbPyfa"
      },
      "execution_count": null,
      "outputs": []
    },
    {
      "cell_type": "code",
      "source": [
        "function test2(s)\n",
        "    i = threadIdx().x\n",
        "    s.vout[i] = s.vin[i]*10\n",
        "    return nothing\n",
        "end"
      ],
      "metadata": {
        "colab": {
          "base_uri": "https://localhost:8080/"
        },
        "id": "Ux8CpqPjQeo3",
        "outputId": "b7e0f196-8ae0-47e0-c879-258c68164002"
      },
      "execution_count": null,
      "outputs": [
        {
          "output_type": "execute_result",
          "data": {
            "text/plain": [
              "test2 (generic function with 1 method)"
            ]
          },
          "metadata": {},
          "execution_count": 29
        }
      ]
    },
    {
      "cell_type": "code",
      "source": [
        "struct Model3{T, S}\n",
        "    n::S\n",
        "    vin::T\n",
        "    vout::T\n",
        "end\n",
        "\n",
        "import Adapt\n",
        "function Adapt.adapt_structure(to, model::Model3)\n",
        "    n = Adapt.adapt_structure(to, model.n)\n",
        "    vin = Adapt.adapt_structure(to, model.vin)\n",
        "    vout = Adapt.adapt_structure(to, model.vout)\n",
        "    Model3(n, vin, vout)\n",
        "end"
      ],
      "metadata": {
        "id": "8y_61Jy6Qnpj"
      },
      "execution_count": null,
      "outputs": []
    },
    {
      "cell_type": "code",
      "source": [
        "n = 10\n",
        "yin = CuArray(rand(n))\n",
        "yout = CuArray(zeros(n))\n",
        "m3 = Model3(n, yin, yout)\n",
        "[m3.vin m3.vout]"
      ],
      "metadata": {
        "colab": {
          "base_uri": "https://localhost:8080/"
        },
        "id": "HZPC_ZeAT8sj",
        "outputId": "c5527322-4dfd-4e35-bccd-522d671b672f"
      },
      "execution_count": null,
      "outputs": [
        {
          "output_type": "execute_result",
          "data": {
            "text/plain": [
              "10×2 CuArray{Float64, 2, CUDA.Mem.DeviceBuffer}:\n",
              " 0.727961  0.0\n",
              " 0.672124  0.0\n",
              " 0.454851  0.0\n",
              " 0.154048  0.0\n",
              " 0.217869  0.0\n",
              " 0.625703  0.0\n",
              " 0.807248  0.0\n",
              " 0.16296   0.0\n",
              " 0.669908  0.0\n",
              " 0.612245  0.0"
            ]
          },
          "metadata": {},
          "execution_count": 50
        }
      ]
    },
    {
      "cell_type": "code",
      "source": [
        "@cuda threads=m3.n test2(m3)\n",
        "[m3.vin m3.vout]"
      ],
      "metadata": {
        "colab": {
          "base_uri": "https://localhost:8080/"
        },
        "id": "gxaqyLCIRB6o",
        "outputId": "7c407beb-7c68-490b-dd0a-363ebac7ec84"
      },
      "execution_count": null,
      "outputs": [
        {
          "output_type": "execute_result",
          "data": {
            "text/plain": [
              "10×2 CuArray{Float64, 2, CUDA.Mem.DeviceBuffer}:\n",
              " 0.727961  7.27961\n",
              " 0.672124  6.72124\n",
              " 0.454851  4.54851\n",
              " 0.154048  1.54048\n",
              " 0.217869  2.17869\n",
              " 0.625703  6.25703\n",
              " 0.807248  8.07248\n",
              " 0.16296   1.6296\n",
              " 0.669908  6.69908\n",
              " 0.612245  6.12245"
            ]
          },
          "metadata": {},
          "execution_count": 51
        }
      ]
    },
    {
      "cell_type": "markdown",
      "source": [
        "https://discourse.julialang.org/t/arrays-of-arrays-and-arrays-of-structures-in-cuda-kernels-cause-random-errors/69739"
      ],
      "metadata": {
        "id": "Dmyvat_OUYy4"
      }
    },
    {
      "cell_type": "code",
      "source": [],
      "metadata": {
        "id": "DLWypkT5KZEq"
      },
      "execution_count": null,
      "outputs": []
    },
    {
      "cell_type": "markdown",
      "source": [
        "# Test structures with CUDA"
      ],
      "metadata": {
        "id": "azJl7vaEKg6g"
      }
    },
    {
      "cell_type": "code",
      "source": [
        "struct TestModel2{T, S}\n",
        "    n::S\n",
        "    vin::T\n",
        "    vout::T\n",
        "end\n",
        "function Adapt.adapt_structure(to, model::TestModel1)\n",
        "    n = Adapt.adapt_structure(to, model.n)\n",
        "    vin = Adapt.adapt_structure(to, model.vin)\n",
        "    vout = Adapt.adapt_structure(to, model.vout)\n",
        "    TestModel1(n, vin, vout)\n",
        "end"
      ],
      "metadata": {
        "id": "hLBZLgP3lpS4"
      },
      "execution_count": null,
      "outputs": []
    },
    {
      "cell_type": "code",
      "source": [
        "struct TestModel\n",
        "    n\n",
        "    vin\n",
        "    vout\n",
        "end\n",
        "\n",
        "import Adapt\n",
        "function Adapt.adapt_structure(to, model::TestModel)\n",
        "    n = Adapt.adapt_structure(to, model.n)\n",
        "    vin = Adapt.adapt_structure(to, model.vin)\n",
        "    vout = Adapt.adapt_structure(to, model.vout)\n",
        "    TestModel(n, vin, vout)\n",
        "end"
      ],
      "metadata": {
        "id": "c2QUZXH0KZ4E"
      },
      "execution_count": null,
      "outputs": []
    },
    {
      "cell_type": "code",
      "source": [
        "function test2(s)\n",
        "    i = threadIdx().x\n",
        "    s.vout[i] = s.vin[i]*10\n",
        "    return nothing\n",
        "end\n",
        "\n",
        "function build_model(n) \n",
        "    vin = CuArray(rand(n))\n",
        "    vout = CuArray(zeros(n))\n",
        "    return TestModel(n, vin, vout)\n",
        "end"
      ],
      "metadata": {
        "colab": {
          "base_uri": "https://localhost:8080/"
        },
        "id": "zf-aM_3hKZQw",
        "outputId": "4811b270-4bff-4aa9-b7bc-ade30f682ac7"
      },
      "execution_count": null,
      "outputs": [
        {
          "output_type": "execute_result",
          "data": {
            "text/plain": [
              "build_model (generic function with 1 method)"
            ]
          },
          "metadata": {},
          "execution_count": 4
        }
      ]
    },
    {
      "cell_type": "code",
      "source": [
        "n = 10\n",
        "yin = CuArray(rand(n))\n",
        "yout = CuArray(zeros(n))\n",
        "m1 = TestModel1(n, yin, yout)\n",
        "\n",
        "show(IOContext(stdout, :limit=>false), \"text/plain\", [m1.vin m1.vout])\n",
        "\n",
        "@cuda threads=m1.n test2(m1)\n",
        "\n",
        "println(\"\\n\"); show(IOContext(stdout, :limit=>false), \"text/plain\", [m1.vin m1.vout])"
      ],
      "metadata": {
        "colab": {
          "base_uri": "https://localhost:8080/"
        },
        "id": "1pj3l_aZKb9w",
        "outputId": "a384ad58-0b66-4040-a278-2c42b449cff8"
      },
      "execution_count": null,
      "outputs": [
        {
          "output_type": "stream",
          "name": "stdout",
          "text": [
            "10×2 CuArray{Float64, 2, CUDA.Mem.DeviceBuffer}:\n",
            " 0.746335   0.0\n",
            " 0.0776547  0.0\n",
            " 0.0546077  0.0\n",
            " 0.567868   0.0\n",
            " 0.141722   0.0\n",
            " 0.456572   0.0\n",
            " 0.115121   0.0\n",
            " 0.777527   0.0\n",
            " 0.600982   0.0\n",
            " 0.935452   0.0\n",
            "\n",
            "10×2 CuArray{Float64, 2, CUDA.Mem.DeviceBuffer}:\n",
            " 0.746335   7.46335\n",
            " 0.0776547  0.776547\n",
            " 0.0546077  0.546077\n",
            " 0.567868   5.67868\n",
            " 0.141722   1.41722\n",
            " 0.456572   4.56572\n",
            " 0.115121   1.15121\n",
            " 0.777527   7.77527\n",
            " 0.600982   6.00982\n",
            " 0.935452   9.35452"
          ]
        }
      ]
    },
    {
      "cell_type": "code",
      "source": [
        "m2 = build_model(n)\n",
        "\n",
        "show(IOContext(stdout, :limit=>false), \"text/plain\", [m2.vin m2.vout])\n",
        "\n",
        "@cuda threads=m2.n test2(m2)\n",
        "\n",
        "println(\"\\n\"); show(IOContext(stdout, :limit=>false), \"text/plain\", [m2.vin m2.vout])"
      ],
      "metadata": {
        "id": "xwN9Bi-ZLCYz"
      },
      "execution_count": null,
      "outputs": []
    },
    {
      "cell_type": "code",
      "source": [
        "function f1(x_cpu)\n",
        "    convert(CuArray, x_cpu)\n",
        "    return nothing\n",
        "end\n",
        "\n",
        "function f2(x_cpu)\n",
        "    CuArray(x_cpu)\n",
        "    return nothing\n",
        "end\n",
        "x = rand(10^6)\n",
        "@btime f1($x)\n",
        "@btime f2($x)"
      ],
      "metadata": {
        "id": "VeuatKfVFlZc",
        "outputId": "e13c4b17-2724-4516-ab6d-9ec6ddc9b609",
        "colab": {
          "base_uri": "https://localhost:8080/"
        }
      },
      "execution_count": null,
      "outputs": [
        {
          "output_type": "stream",
          "name": "stdout",
          "text": [
            "  1.520 ms (6 allocations: 192 bytes)\n",
            "  1.523 ms (6 allocations: 192 bytes)\n"
          ]
        }
      ]
    },
    {
      "cell_type": "code",
      "source": [
        "function f3(x,xind)\n",
        "    xind .= @. x>0.5\n",
        "    return nothing\n",
        "end\n",
        "\n",
        "function f4(x, xind, y)\n",
        "    xind .= @. x>0.5\n",
        "    y .= @. xind[4:end] * xind[3:end-1] * xind[2:end-2] * xind[1:end-3]\n",
        "    return nothing\n",
        "end\n",
        "\n",
        "function f5(x, xind, y)\n",
        "    xind .= @. x>0.5\n",
        "    y .= @. max(xind[4:end], xind[3:end-1], xind[2:end-2], xind[1:end-3])\n",
        "    return nothing\n",
        "end\n",
        "\n",
        "function f3_cpu(x,xind)\n",
        "    for i in 1:lastindex(x)\n",
        "        xind[i]=x[i]>0.5\n",
        "    end\n",
        "    return nothing\n",
        "end"
      ],
      "metadata": {
        "id": "VgW8BbXNKZD9",
        "outputId": "109c09e3-19f4-45b2-f287-a701080db352",
        "colab": {
          "base_uri": "https://localhost:8080/"
        }
      },
      "execution_count": null,
      "outputs": [
        {
          "output_type": "execute_result",
          "data": {
            "text/plain": [
              "f3_cpu (generic function with 1 method)"
            ]
          },
          "metadata": {},
          "execution_count": 105
        }
      ]
    },
    {
      "cell_type": "code",
      "source": [
        "n=10^6\n",
        "a=CuArray(rand(n))\n",
        "aind=CuArray(zeros(n))\n",
        "b=CuArray(zeros(n-3))\n",
        "\n",
        "@time f3(a,aind)\n",
        "@time f4(a,aind,b)\n",
        "@time f5(a,aind,b)"
      ],
      "metadata": {
        "id": "hWTmTVr5LFTp",
        "outputId": "935efc27-664f-4f77-fe08-da6c97dcec06",
        "colab": {
          "base_uri": "https://localhost:8080/"
        }
      },
      "execution_count": null,
      "outputs": [
        {
          "output_type": "stream",
          "name": "stdout",
          "text": [
            "  0.038495 seconds (159.34 k allocations: 8.463 MiB, 99.71% compilation time)\n",
            "  0.090074 seconds (267.92 k allocations: 14.347 MiB, 99.84% compilation time)\n",
            "  0.091632 seconds (267.92 k allocations: 14.347 MiB, 99.84% compilation time)\n"
          ]
        }
      ]
    },
    {
      "cell_type": "code",
      "source": [
        "@btime f3($a, $aind)"
      ],
      "metadata": {
        "id": "iZfLR4dTM-B4",
        "outputId": "65d3b3d4-d8b2-48d0-bb73-a290c3b4114d",
        "colab": {
          "base_uri": "https://localhost:8080/"
        }
      },
      "execution_count": null,
      "outputs": [
        {
          "output_type": "stream",
          "name": "stdout",
          "text": [
            "  3.298 μs (11 allocations: 576 bytes)\n"
          ]
        }
      ]
    },
    {
      "cell_type": "code",
      "source": [
        "a_cpu=convert(Vector{Float32},a)\n",
        "aind_cpu=convert(Vector{Float32},aind)\n",
        "\n",
        "@btime f3_cpu($a_cpu, $aind_cpu)"
      ],
      "metadata": {
        "id": "qL2oqnweMvKP",
        "outputId": "ad5450a3-54d1-44d6-9a4c-cc221481bcb8",
        "colab": {
          "base_uri": "https://localhost:8080/"
        }
      },
      "execution_count": null,
      "outputs": [
        {
          "output_type": "stream",
          "name": "stdout",
          "text": [
            "  633.252 μs (0 allocations: 0 bytes)\n"
          ]
        }
      ]
    }
  ]
}