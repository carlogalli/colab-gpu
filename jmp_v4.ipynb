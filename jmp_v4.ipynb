{
  "nbformat": 4,
  "nbformat_minor": 0,
  "metadata": {
    "accelerator": "GPU",
    "colab": {
      "provenance": [],
      "collapsed_sections": [],
      "include_colab_link": true
    },
    "kernelspec": {
      "display_name": "Julia 1.7",
      "language": "julia",
      "name": "julia-1.7"
    },
    "language_info": {
      "file_extension": ".jl",
      "mimetype": "application/julia",
      "name": "julia",
      "version": "1.7.2"
    },
    "gpuClass": "standard"
  },
  "cells": [
    {
      "cell_type": "markdown",
      "metadata": {
        "id": "view-in-github",
        "colab_type": "text"
      },
      "source": [
        "<a href=\"https://colab.research.google.com/github/carlogalli/colab-gpu/blob/main/jmp_v4.ipynb\" target=\"_parent\"><img src=\"https://colab.research.google.com/assets/colab-badge.svg\" alt=\"Open In Colab\"/></a>"
      ]
    },
    {
      "cell_type": "markdown",
      "source": [
        "# Installation"
      ],
      "metadata": {
        "id": "tPIu4SvlIuWW"
      }
    },
    {
      "cell_type": "code",
      "metadata": {
        "id": "PMGwZ7aFJL8Y"
      },
      "source": [
        "# Installation cell\n",
        "%%capture\n",
        "%%shell\n",
        "if ! command -v julia 3>&1 > /dev/null\n",
        "then\n",
        "    wget -q 'https://julialang-s3.julialang.org/bin/linux/x64/1.7/julia-1.7.2-linux-x86_64.tar.gz' \\\n",
        "        -O /tmp/julia.tar.gz\n",
        "    tar -x -f /tmp/julia.tar.gz -C /usr/local --strip-components 1\n",
        "    rm /tmp/julia.tar.gz\n",
        "fi\n",
        "julia -e 'using Pkg; pkg\"add IJulia; precompile;\"'\n",
        "echo 'Done'"
      ],
      "execution_count": 1,
      "outputs": []
    },
    {
      "cell_type": "markdown",
      "metadata": {
        "id": "XdMpcQduyaQc"
      },
      "source": [
        "After you run the first cell (the cell directly above this text), go to Colab's menu bar and select **Edit** and select **Notebook settings** from the drop down. Select *Julia 1.7* in Runtime type. You can also select your prefered harwdware acceleration (defaults to GPU)."
      ]
    },
    {
      "cell_type": "code",
      "metadata": {
        "id": "iIxu4TjlJnBG",
        "colab": {
          "base_uri": "https://localhost:8080/"
        },
        "outputId": "c6789317-ee9e-46b1-aac1-f3234f5c0bb9"
      },
      "source": [
        "VERSION   # print Julia version"
      ],
      "execution_count": 1,
      "outputs": [
        {
          "output_type": "execute_result",
          "data": {
            "text/plain": [
              "v\"1.7.2\""
            ]
          },
          "metadata": {},
          "execution_count": 1
        }
      ]
    },
    {
      "cell_type": "code",
      "source": [
        "using Pkg\n",
        "Pkg.add([\"CUDA\", \"Random\", \"Distributions\", \"Printf\", \"BenchmarkTools\", \"PyPlot\", \"PrettyTables\"]);\n",
        "#ENV[\"JULIA_CUDA_USE_BINARYBUILDER\"] = false\n",
        "using Random, Distributions, CUDA, Printf, BenchmarkTools, PyPlot, PrettyTables;\n",
        "\n",
        "function print_gpu_properties()\n",
        "\n",
        "    for (i,device) in enumerate(CUDA.devices())\n",
        "        println(\"*** General properties for device $i ***\")\n",
        "        name = CUDA.name(device)\n",
        "        println(\"Device name: $name\")\n",
        "        major = CUDA.attribute(device, CUDA.CU_DEVICE_ATTRIBUTE_COMPUTE_CAPABILITY_MAJOR)\n",
        "        minor = CUDA.attribute(device, CUDA.CU_DEVICE_ATTRIBUTE_COMPUTE_CAPABILITY_MINOR)\n",
        "        println(\"Compute capabilities: $major.$minor\")\n",
        "        clock_rate = CUDA.attribute(device, CUDA.CU_DEVICE_ATTRIBUTE_CLOCK_RATE)\n",
        "        println(\"Clock rate: $clock_rate\")\n",
        "        device_overlap = CUDA.attribute(device, CUDA.CU_DEVICE_ATTRIBUTE_GPU_OVERLAP)\n",
        "        print(\"Device copy overlap: \")\n",
        "        println(device_overlap > 0 ? \"enabled\" : \"disabled\")\n",
        "        kernel_exec_timeout = CUDA.attribute(device, CUDA.CU_DEVICE_ATTRIBUTE_KERNEL_EXEC_TIMEOUT)\n",
        "        print(\"Kernel execution timeout: \")\n",
        "        println(kernel_exec_timeout > 0 ? \"enabled\" : \"disabled\")\n",
        "        # a = CUDA.attribute(device, CUDA.CU_DEVICE_ATTRIBUTE_MAX_BLOCK_DIM_X)\n",
        "        # d = CUDA.attribute(device, CUDA.CU_DEVICE_ATTRIBUTE_MAX_GRID_DIM_X)       \n",
        "        a = CUDA.attribute(device, CUDA.CU_DEVICE_ATTRIBUTE_MULTIPROCESSOR_COUNT)\n",
        "        println(\"Number of multiprocessors: $a\")\n",
        "        b = CUDA.attribute(device, CUDA.CU_DEVICE_ATTRIBUTE_MAX_BLOCKS_PER_MULTIPROCESSOR)\n",
        "        println(\"Max blocks per MP: $b\")\n",
        "        c = CUDA.attribute(device, CUDA.CU_DEVICE_ATTRIBUTE_MAX_THREADS_PER_BLOCK)        \n",
        "        println(\"Max threads per block: $c\")\n",
        "        \n",
        "        println([a b c a*b*c])\n",
        "    end\n",
        "end\n",
        "    \n",
        "@time print_gpu_properties()\n",
        "# with the falseENV option it takes 117.357304 seconds (35.94 M allocations: 2.301 GiB, 1.29% gc time, 11.71% compilation time)\n",
        "# without the falseENV option it takes  124.465413 seconds (39.74 M allocations: 2.537 GiB, 1.27% gc time, 12.65% compilation time)\n",
        "\n",
        "\n",
        "#Pkg.add(\"CpuId\")\n",
        "#using CpuId\n",
        "#cpuinfo()"
      ],
      "metadata": {
        "id": "V0_t4ILW0HMu"
      },
      "execution_count": null,
      "outputs": []
    },
    {
      "cell_type": "markdown",
      "source": [
        "# JMP functions"
      ],
      "metadata": {
        "id": "3YlAuBM7GeAG"
      }
    },
    {
      "cell_type": "code",
      "source": [],
      "metadata": {
        "colab": {
          "base_uri": "https://localhost:8080/"
        },
        "id": "qvx7ifG8Ld4u",
        "outputId": "a7a3d6f3-f2fa-4f33-91e6-24295a6ddbdd"
      },
      "execution_count": 22,
      "outputs": [
        {
          "output_type": "execute_result",
          "data": {
            "text/plain": [
              "plot_style (generic function with 1 method)"
            ]
          },
          "metadata": {},
          "execution_count": 22
        }
      ]
    },
    {
      "cell_type": "markdown",
      "source": [
        "# Execute code"
      ],
      "metadata": {
        "id": "WRVqdKeOXJfI"
      }
    },
    {
      "cell_type": "code",
      "source": [
        "@time main_gpu(Model_GPU(nB=51, ny=21), max_iter=100, print_iter=5)"
      ],
      "metadata": {
        "id": "qeB6Q2z0qntl",
        "outputId": "5042fe24-3897-4627-c1fa-38f9c143106d",
        "colab": {
          "base_uri": "https://localhost:8080/"
        }
      },
      "execution_count": 23,
      "outputs": [
        {
          "output_type": "stream",
          "name": "stdout",
          "text": [
            "iter 5, error 3.83e-01\n",
            "iter 10, error 1.41e-01\n",
            "iter 15, error 6.09e-02\n",
            "iter 20, error 2.27e-02\n",
            "iter 25, error 8.68e-03\n",
            "iter 30, error 3.36e-03\n",
            "iter 35, error 1.31e-03\n",
            "iter 40, error 5.16e-04\n",
            "iter 45, error 2.03e-04\n",
            "iter 50, error 8.01e-05\n",
            "iter 55, error 3.19e-05\n",
            "iter 60, error 1.29e-05\n",
            "vfi ends with 62 iters, error 9.06e-06\n",
            "  3.510334 seconds (2.53 M allocations: 117.772 MiB, 0.86% gc time, 66.95% compilation time)\n"
          ]
        }
      ]
    },
    {
      "cell_type": "code",
      "source": [
        "@time main_gpu(Model_GPU(nB=51, ny=21, T_sim=10^6, T_discard_sim=100), max_iter=100, print_iter=0, simulate=true)"
      ],
      "metadata": {
        "id": "L_xV55ig4bsa"
      },
      "execution_count": null,
      "outputs": []
    },
    {
      "cell_type": "code",
      "source": [
        "@time main_gpu_timed(Model_GPU(nB=51, ny=21, T_sim=10^6, T_discard_sim=100), max_iter=100, print_iter=0, simulate=true)"
      ],
      "metadata": {
        "id": "LLIG-VQdmlYV"
      },
      "execution_count": null,
      "outputs": []
    },
    {
      "cell_type": "markdown",
      "source": [
        "# Debug various things\n",
        "\n",
        "Let's try to make the simulation faster."
      ],
      "metadata": {
        "id": "smcCznMCom0s"
      }
    },
    {
      "cell_type": "code",
      "source": [
        "# Find best way to take a mean. Mean > vector multiplication and sum  >> indexing!\n",
        "\n",
        "function f4(A)\n",
        "    inds = @. A>0.3\n",
        "    sum(A.*inds)/sum(inds)\n",
        "    return\n",
        "end\n",
        "\n",
        "function f5(A)  # This gives the wrong result!\n",
        "    inds = @. A>0.3\n",
        "    return mean(A.*inds)\n",
        "end\n",
        "\n",
        "function f6(A::Vector)\n",
        "    inds = @. A>0.3\n",
        "    mean(A[inds])\n",
        "    return\n",
        "end\n",
        "\n",
        "x = rand(10^6)\n",
        "y = CuArray(x)\n",
        "\n",
        "f4(y), f6(x)"
      ],
      "metadata": {
        "colab": {
          "base_uri": "https://localhost:8080/"
        },
        "id": "fl3RsNuGvo80",
        "outputId": "6f191287-87bb-48c1-c2d8-3269b1b670b7"
      },
      "execution_count": null,
      "outputs": [
        {
          "output_type": "execute_result",
          "data": {
            "text/plain": [
              "(0.20193858799072076, 0.6501436064712264, nothing, 0.4552552587081986, nothing)"
            ]
          },
          "metadata": {},
          "execution_count": 144
        }
      ]
    },
    {
      "cell_type": "code",
      "source": [
        "@btime f4($y)\n",
        "@btime f6($x)"
      ],
      "metadata": {
        "id": "t3VbO6SlOiqk",
        "outputId": "407eb213-6f34-4a20-c989-8aabd74686e5",
        "colab": {
          "base_uri": "https://localhost:8080/"
        }
      },
      "execution_count": null,
      "outputs": [
        {
          "output_type": "stream",
          "name": "stdout",
          "text": [
            "  213.583 μs (112 allocations: 5.66 KiB)\n",
            "  2.254 ms (6 allocations: 5.47 MiB)\n"
          ]
        }
      ]
    },
    {
      "cell_type": "code",
      "source": [
        "function f1(A::Array)\n",
        "    return std(A)\n",
        "end\n",
        "\n",
        "function f2(A::CuArray)\n",
        "    mu = mean(A)\n",
        "    return sqrt(sum(@. (A-mu)^2)/(length(A)-1))\n",
        "end\n",
        "\n",
        "f1(x)-f2(y)"
      ],
      "metadata": {
        "colab": {
          "base_uri": "https://localhost:8080/"
        },
        "id": "9XAAKJAih0NQ",
        "outputId": "8d11cda2-615e-475f-86bb-535588afe1c2"
      },
      "execution_count": null,
      "outputs": [
        {
          "output_type": "execute_result",
          "data": {
            "text/plain": [
              "-5.551115123125783e-17"
            ]
          },
          "metadata": {},
          "execution_count": 148
        }
      ]
    },
    {
      "cell_type": "code",
      "source": [
        "@btime f1(x)\n",
        "@btime f2(y)"
      ],
      "metadata": {
        "colab": {
          "base_uri": "https://localhost:8080/"
        },
        "id": "LeWCBe_uiQ34",
        "outputId": "6969e27f-24e3-4df6-f6dd-852906fac930"
      },
      "execution_count": null,
      "outputs": [
        {
          "output_type": "stream",
          "name": "stdout",
          "text": [
            "  444.599 μs (1 allocation: 16 bytes)\n",
            "  193.677 μs (99 allocations: 4.95 KiB)\n"
          ]
        },
        {
          "output_type": "execute_result",
          "data": {
            "text/plain": [
              "0.2887386363105266"
            ]
          },
          "metadata": {},
          "execution_count": 149
        }
      ]
    },
    {
      "cell_type": "code",
      "source": [
        "# This shows that indexing CuArrays is tragically slow and should be avoided at all costs\n",
        "function test(X)\n",
        "    t = 0.\n",
        "    for i in 1:lastindex(X)\n",
        "      t += X[i]\n",
        "    end\n",
        "    return t\n",
        "end\n",
        "\n",
        "A = rand(Float32, 10^6)\n",
        "B = CuArray(A)\n",
        "nothing"
      ],
      "metadata": {
        "id": "FzPiTNbSL5IT"
      },
      "execution_count": null,
      "outputs": []
    },
    {
      "cell_type": "code",
      "source": [
        "@btime test($A)\n",
        "@btime test($B)"
      ],
      "metadata": {
        "colab": {
          "base_uri": "https://localhost:8080/"
        },
        "id": "Dpfu8eeHz21J",
        "outputId": "cee4c340-2ad6-49d0-c8e2-2c7dfacf5fea"
      },
      "execution_count": null,
      "outputs": [
        {
          "output_type": "stream",
          "name": "stdout",
          "text": [
            "  1.259 ms (1 allocation: 16 bytes)\n",
            "  10.105 s (3000001 allocations: 457.76 MiB)\n"
          ]
        },
        {
          "output_type": "execute_result",
          "data": {
            "text/plain": [
              "499931.26923942566"
            ]
          },
          "metadata": {},
          "execution_count": 12
        }
      ]
    },
    {
      "cell_type": "code",
      "source": [
        "# This shows that different methods to copy a CuArray into a new Array are identical\n",
        "function test1(X::CuArray)\n",
        "    Y = Vector{Float32}(X)\n",
        "    return\n",
        "end\n",
        "\n",
        "function test2(X::CuArray)\n",
        "    Y = convert(Vector{Float32}, X)\n",
        "    return\n",
        "end\n",
        "\n",
        "function test3(X::CuArray)\n",
        "    Y = Vector{Float32}(undef, length(X))\n",
        "    copyto!(Y, X)\n",
        "    return\n",
        "end\n",
        "\n",
        "A = CuArray(rand(Float32, 10^6))\n",
        "\n",
        "@btime test1($A)\n",
        "@btime test2($A)\n",
        "@btime test3($A)"
      ],
      "metadata": {
        "colab": {
          "base_uri": "https://localhost:8080/"
        },
        "id": "QZFWMDoQ2Env",
        "outputId": "f88f3dfc-e001-4afa-ad87-fffb0f485f13"
      },
      "execution_count": null,
      "outputs": [
        {
          "output_type": "stream",
          "name": "stdout",
          "text": [
            "  3.356 ms (5 allocations: 11.44 MiB)\n",
            "  3.333 ms (5 allocations: 11.44 MiB)\n",
            "  3.359 ms (5 allocations: 11.44 MiB)\n"
          ]
        }
      ]
    },
    {
      "cell_type": "code",
      "source": [
        "A = CuArray(rand(Float32, 10^6))\n",
        "B = CuArray(rand(Float32, 10^6))\n",
        "tup_gpu = A,B\n",
        "typeof(tup_gpu)\n",
        "isa(tup_gpu, Tuple{CuArray, CuArray})\n",
        "tup_cpu = convert(Tuple{Array, Array}, tup_gpu)\n",
        "[tup_cpu[1] tup_cpu[2]]\n",
        "\n",
        "C, D = convert(Tuple{Array, Array}, tup_gpu)\n",
        "\n",
        "typeof(tup_gpu)\n",
        "isa(tup_gpu, NTuple{2, CuArray})"
      ],
      "metadata": {
        "id": "_pWOVqe6o_1g"
      },
      "execution_count": null,
      "outputs": []
    },
    {
      "cell_type": "code",
      "source": [
        "CUDA.allowscalar(false)\n",
        "\n",
        "function cor_gpu(a, b, c)\n",
        "    is = a .> 0.5\n",
        "    return cov(b.*is, c.*is)/(std(b.*is)*std(c.*is))\n",
        "end\n",
        "\n",
        "function test_cpu(a, b, c)\n",
        "    is = a .> 0.5\n",
        "    T=sum(is)\n",
        "    #return cor(b[is], c[is]), cor(b.*is, c.*is)\n",
        "    return mean(b.*is), sum(b.*is)/T, mean(b[is])\n",
        "end\n",
        "function test_gpu(a, b, c)\n",
        "    is = a .> 0.5\n",
        "    T=sum(is)\n",
        "    #return cor(b[is], c[is]), cor(b.*is, c.*is)\n",
        "    return mean(b.*is), sum(b.*is)/T, mean(b[is])\n",
        "end"
      ],
      "metadata": {
        "colab": {
          "base_uri": "https://localhost:8080/"
        },
        "id": "3dKdD0oQLXJb",
        "outputId": "2d4c7e43-cc5e-4e37-8421-bf049d9eec7c"
      },
      "execution_count": null,
      "outputs": [
        {
          "output_type": "execute_result",
          "data": {
            "text/plain": [
              "test_gpu (generic function with 1 method)"
            ]
          },
          "metadata": {},
          "execution_count": 113
        }
      ]
    },
    {
      "cell_type": "code",
      "source": [
        "x, y, z = [rand(100) for i in 1:3]\n",
        "X=CuArray(x)\n",
        "Y=CuArray(y)\n",
        "Z=CuArray(z);"
      ],
      "metadata": {
        "id": "msfxPj-kTjq9"
      },
      "execution_count": null,
      "outputs": []
    },
    {
      "cell_type": "code",
      "source": [
        "#test_cpu(x,y,z), test_gpu(X, Y, Z)\n",
        "test_cpu(x,y,z), test_gpu(X,Y,Z)"
      ],
      "metadata": {
        "colab": {
          "base_uri": "https://localhost:8080/"
        },
        "id": "k_DlMZRsVjA-",
        "outputId": "ae103c9d-430c-4982-be81-cd5a7dd6d79c"
      },
      "execution_count": null,
      "outputs": [
        {
          "output_type": "execute_result",
          "data": {
            "text/plain": [
              "((0.29944589350082085, 0.5545294324089275, 0.5545294324089275), (0.29944589350082085, 0.5545294324089275, 0.5545294324089275))"
            ]
          },
          "metadata": {},
          "execution_count": 114
        }
      ]
    }
  ]
}