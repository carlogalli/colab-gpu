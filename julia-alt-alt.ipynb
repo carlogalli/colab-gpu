{
  "nbformat": 4,
  "nbformat_minor": 0,
  "metadata": {
    "colab": {
      "provenance": [],
      "include_colab_link": true
    },
    "kernelspec": {
      "name": "julia",
      "display_name": "Julia"
    },
    "accelerator": "GPU"
  },
  "cells": [
    {
      "cell_type": "markdown",
      "metadata": {
        "id": "view-in-github",
        "colab_type": "text"
      },
      "source": [
        "<a href=\"https://colab.research.google.com/github/carlogalli/colab-gpu/blob/main/julia-alt-alt.ipynb\" target=\"_parent\"><img src=\"https://colab.research.google.com/assets/colab-badge.svg\" alt=\"Open In Colab\"/></a>"
      ]
    },
    {
      "cell_type": "code",
      "metadata": {
        "id": "PzmKOAh2LZrF"
      },
      "source": [
        "%%capture\n",
        "%%shell\n",
        "if ! command -v julia 3>&1 > /dev/null\n",
        "then\n",
        "    wget -q 'https://julialang-s3.julialang.org/bin/linux/x64/1.8/julia-1.8.5-linux-x86_64.tar.gz' \\\n",
        "        -O /tmp/julia.tar.gz\n",
        "    tar -x -f /tmp/julia.tar.gz -C /usr/local --strip-components 1\n",
        "    rm /tmp/julia.tar.gz\n",
        "fi\n",
        "julia -e 'using Pkg; Pkg.add(\"IJulia\"); installkernel(\"Julia\");'\n",
        "jupyter kernelspec install $(jupyter kernelspec list | grep julia | tr -s ' ' | cut -d' ' -f3) --replace --name julia"
      ],
      "execution_count": 2,
      "outputs": []
    },
    {
      "cell_type": "markdown",
      "source": [
        "After you have run the cell above this text, reload the page (Ctrl+R). Then run the cell below to make sure you are indeed using Julia."
      ],
      "metadata": {
        "id": "ZeAF8AjbDfNj"
      }
    },
    {
      "cell_type": "code",
      "metadata": {
        "id": "erJ7bkEtLrCF",
        "outputId": "9bbbade2-7722-4fb0-e17d-e29fc509a74c",
        "colab": {
          "base_uri": "https://localhost:8080/",
          "height": 209
        }
      },
      "source": [
        "# Run this cell tocheck if you're now running Julia: it will print the current version if so, and gives an error otherwise\n",
        "VERSION"
      ],
      "execution_count": 1,
      "outputs": [
        {
          "output_type": "error",
          "ename": "NameError",
          "evalue": "ignored",
          "traceback": [
            "\u001b[0;31m---------------------------------------------------------------------------\u001b[0m",
            "\u001b[0;31mNameError\u001b[0m                                 Traceback (most recent call last)",
            "\u001b[0;32m<ipython-input-1-e91a0ed34543>\u001b[0m in \u001b[0;36m<module>\u001b[0;34m\u001b[0m\n\u001b[1;32m      1\u001b[0m \u001b[0;31m# Run this cell tocheck if you're now running Julia: it will print the current version if so, and gives an error otherwise\u001b[0m\u001b[0;34m\u001b[0m\u001b[0;34m\u001b[0m\u001b[0;34m\u001b[0m\u001b[0m\n\u001b[0;32m----> 2\u001b[0;31m \u001b[0mVERSION\u001b[0m\u001b[0;34m\u001b[0m\u001b[0;34m\u001b[0m\u001b[0m\n\u001b[0m",
            "\u001b[0;31mNameError\u001b[0m: name 'VERSION' is not defined"
          ]
        }
      ]
    },
    {
      "cell_type": "code",
      "source": [
        "# Install packages (takes a couple of minutes)\n",
        "using Pkg\n",
        "Pkg.add([\"PyPlot\", \"PyCall\", \"Optim\", \"Distributions\", \"Roots\", \"Printf\", \"QuadGK\", \"StatsBase\", \"Interpolations\", \"Random\"])\n",
        "\n",
        "\n",
        "using PyPlot, PyCall, Optim, Distributions, Roots, Printf, QuadGK, StatsBase, Interpolations, Random\n",
        "\n",
        "\n",
        "function plot_style(fignum; \n",
        "\tfs::Real=10, \t\t\t\t# fontsize singlegraph\n",
        "\tfs_title::Real=NaN,   \t\t\t\t# fontsize title (defaults to fs)\n",
        "\tfs_legend::Real=NaN, \t\t\t\t# fontsize legend (defaults to fs)\n",
        "\tfs_label::Real=NaN, \t\t\t\t# fontsize label (defaults to fs)\n",
        "\txticklabsize::Real=NaN, \t\n",
        "\tyticklabsize::Real=NaN, \t\n",
        "\txlabel_coords::Tuple=(0.5, -0.1),\n",
        "\tylabel_coords::Tuple=(-0.1, 0.5),\n",
        "\ttitle_coords::Tuple=(0.5, 1.05),\n",
        "\tlegend_labelspacing::Real=0,\t# vertical space between legend labels\n",
        "\tlegend_columnspacing::Real=2, \t\t\t\t\t# spacing between columns\n",
        "\tlegend_handlepad::Real=1,\t\t\t\t# space between legend handle and text\n",
        "\tlegend_loc=0,\t\t\t\t\t\t# legend location (0=best)\n",
        "\thl::Real=1, \t\t\t\t\t# legend handlelength\n",
        "\tlegend_ncol=1,\n",
        "\tldir_subplot::String=\"in\",\n",
        "\txtick_label_format::String=\"%.2f\",\n",
        "\tytick_label_format::String=\"%.2f\", \n",
        "\txtick_number=NaN,\n",
        "\tytick_number=NaN, \n",
        "\tformat_tick_labels::Bool=false,\n",
        "\ttick_direction=\"in\",\n",
        "\ttick_rotation=0,\n",
        "\txtick_rotation=NaN,\n",
        "\tytick_rotation=NaN,\n",
        "\ttick_pad=4,\n",
        "\ttick_width=1,\n",
        "\ttick_length=4\n",
        "\t)\n",
        "\n",
        "\tfig = figure(fignum)\n",
        "\taxs = fig.axes\n",
        "\tfmt_x = matplotlib.ticker.FormatStrFormatter(xtick_label_format)\n",
        "\tfmt_y = matplotlib.ticker.FormatStrFormatter(ytick_label_format)\n",
        "\n",
        "\tif isnan(fs_legend); fs_legend=fs; end\n",
        "\tif isnan(fs_title); fs_title=fs; end\n",
        "\tif isnan(fs_label); fs_label=fs; end\n",
        "\tif isnan(xticklabsize); xticklabsize=fs-4; end\n",
        "\tif isnan(yticklabsize); yticklabsize=fs-4; end\n",
        "\n",
        "\tfor i in 1:length(axs)\n",
        "\t\tca = axs[i]\n",
        "\t\t\n",
        "\t\tca.tick_params.(\"both\", labelcolor = \"k\", direction = tick_direction, length = tick_length, width = tick_width, pad = tick_pad, colors = \"k\", rotation=tick_rotation)\n",
        "\t\tca.tick_params.(\"x\", labelsize = xticklabsize, rotation=(isnan(xtick_rotation) ? tick_rotation : xtick_rotation))\n",
        "\t\tca.tick_params.(\"y\", labelsize = yticklabsize, rotation=(isnan(ytick_rotation) ? tick_rotation : ytick_rotation))\n",
        "\t\tca.xaxis.label.set_size(fs_label)\n",
        "\t\tca.yaxis.label.set_size(fs_label)\n",
        "\t\tca.xaxis.set_label_coords.(xlabel_coords[1], xlabel_coords[2])\t    \n",
        "\t\tca.yaxis.set_label_coords.(ylabel_coords[1], ylabel_coords[2])\n",
        "\n",
        "\t\tif format_tick_labels\n",
        "\t\t\tca.xaxis.set_major_formatter(fmt_x)\n",
        "\t\t\tca.yaxis.set_major_formatter(fmt_y)\n",
        "\t\tend\n",
        "\t\t\n",
        "\t\tif length(ca.get_title())>0 \t\t# there is a title\n",
        "\t\t\tca.title.set_size(fs_title)\n",
        "\t\t\tca.title.set_y.(title_coords)\n",
        "\t\tend\n",
        "\n",
        "\t\tif isnan(xtick_number)==false\n",
        "\t\t\txl, xh = ca.get_xlim()\n",
        "\t\t\tca.xaxis.set_ticks(range(xl, stop=xh, length=xtick_number))\n",
        "\t\tend\n",
        "\t\tif isnan(ytick_number)==false\n",
        "\t\t\tyl, yh = ca.get_ylim()\n",
        "\t\t\tca.yaxis.set_ticks(range(yl, stop=yh, length=ytick_number))\n",
        "\t\tend\n",
        "\n",
        "\t\t\n",
        "\t\tif isa(ca.get_legend_handles_labels()[2],Array{String})\t# there is a legend\t\t\t\n",
        "\t\t\tca.legend(fontsize = fs_legend, handlelength = hl, frameon = false, labelspacing=legend_labelspacing, loc=legend_loc, ncol=legend_ncol, columnspacing=legend_columnspacing, handletextpad=legend_handlepad)\n",
        "\t\tend\n",
        "\tend\n",
        "end"
      ],
      "metadata": {
        "id": "9wVQ4sq5Duh2"
      },
      "execution_count": null,
      "outputs": []
    },
    {
      "cell_type": "code",
      "source": [],
      "metadata": {
        "id": "gNPfSzp2D9nD"
      },
      "execution_count": null,
      "outputs": []
    }
  ]
}